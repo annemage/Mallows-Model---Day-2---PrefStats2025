{
 "cells": [
  {
   "cell_type": "markdown",
   "id": "f123f6d0",
   "metadata": {},
   "source": [
    "# Day 2 - The Mallows Model\n",
    "\n",
    "### PrefStat 2025: Second International Summer School on Preference Learning for Ranking and Ordinal Data\n",
    "#### A. George, 1st July, 2025"
   ]
  },
  {
   "cell_type": "markdown",
   "id": "5595ab0f",
   "metadata": {},
   "source": [
    "# 0) Setup\n",
    "### a) Necessary Python Installations\n",
    "We work with preflibtools to upload and analyse data from PrefLib.org.\n",
    "For documentation please refer to https://preflib.github.io/preflibtools/usage.html#preflib-instances.\n",
    "We also use ortools in one part to compute some Maximum Likelihood parameter exactly. Appart from this some standard python pacakges for computations (numpy), data handling (pandas) and visualisations (seabors, matplotlib) are used. These packages are already installed."
   ]
  },
  {
   "cell_type": "markdown",
   "id": "c4f5a452",
   "metadata": {},
   "source": [
    "### b) Importing Python Packages"
   ]
  },
  {
   "cell_type": "code",
   "execution_count": null,
   "id": "0966075d",
   "metadata": {
    "scrolled": true,
    "trusted": false
   },
   "outputs": [
    {
     "name": "stderr",
     "output_type": "stream",
     "text": [
      "/srv/conda/envs/notebook/lib/python3.10/site-packages/pandas/core/computation/expressions.py:21: UserWarning: Pandas requires version '2.8.4' or newer of 'numexpr' (version '2.8.0' currently installed).\n",
      "  from pandas.core.computation.check import NUMEXPR_INSTALLED\n"
     ]
    }
   ],
   "source": [
    "import pandas as pd\n",
    "import numpy as np\n",
    "import matplotlib.pyplot as plt\n",
    "import seaborn as sns\n",
    "import itertools\n",
    "\n",
    "from collections import defaultdict\n",
    "from itertools import product\n",
    "from ortools.linear_solver import pywraplp\n",
    "\n",
    "from preflibtools.instances import PrefLibInstance\n",
    "from preflibtools.instances import OrdinalInstance\n",
    "import preflibtools.properties\n",
    "from preflibtools.properties.distances import distance_matrix, spearman_footrule_distance\n",
    "from preflibtools.properties.distances import kendall_tau_distance, sertel_distance"
   ]
  },
  {
   "cell_type": "markdown",
   "id": "61c90467",
   "metadata": {},
   "source": [
    "### c) Loading R in Python"
   ]
  },
  {
   "cell_type": "code",
   "execution_count": null,
   "id": "bd31bfa2",
   "metadata": {
    "trusted": false
   },
   "outputs": [
    {
     "name": "stderr",
     "output_type": "stream",
     "text": [
      "/srv/conda/envs/notebook/lib/python3.10/site-packages/rpy2/rinterface/__init__.py:1185: UserWarning: Environment variable \"PWD\" redefined by R and overriding existing variable. Current: \"/home/jupyter\", R: \"/home/jupyter/PrefStats2025\"\n",
      "  warnings.warn(\n",
      "/srv/conda/envs/notebook/lib/python3.10/site-packages/rpy2/rinterface/__init__.py:1185: UserWarning: Environment variable \"R_SESSION_TMPDIR\" redefined by R and overriding existing variable. Current: \"/tmp/RtmpSoU4Eq\", R: \"/tmp/RtmpxB4nP2\"\n",
      "  warnings.warn(\n"
     ]
    }
   ],
   "source": [
    "%load_ext rpy2.ipython\n",
    "from rpy2.robjects import numpy2ri\n",
    "from rpy2.robjects.conversion import localconverter\n",
    "import rpy2.robjects as robjects"
   ]
  },
  {
   "cell_type": "code",
   "execution_count": null,
   "id": "be1436f0",
   "metadata": {
    "trusted": false
   },
   "outputs": [
    {
     "name": "stderr",
     "output_type": "stream",
     "text": [
      "* installing *source* package ‘BayesMallows’ ...\n",
      "** package ‘BayesMallows’ successfully unpacked and MD5 sums checked\n",
      "** using staged installation\n",
      "** libs\n"
     ]
    },
    {
     "name": "stdout",
     "output_type": "stream",
     "text": [
      "x86_64-conda-linux-gnu-c++ -std=gnu++17 -I\"/srv/conda/envs/notebook/lib/R/include\" -DNDEBUG  -I'/home/jupyter/R/x86_64-conda-linux-gnu-library/4.0/Rcpp/include' -I'/home/jupyter/R/x86_64-conda-linux-gnu-library/4.0/RcppArmadillo/include' -I'/home/jupyter/R/x86_64-conda-linux-gnu-library/4.0/testthat/include' -DNDEBUG -D_FORTIFY_SOURCE=2 -O2 -isystem /srv/conda/envs/notebook/include -I/srv/conda/envs/notebook/include -Wl,-rpath-link,/srv/conda/envs/notebook/lib  -fopenmp -fpic  -fvisibility-inlines-hidden  -fmessage-length=0 -march=nocona -mtune=haswell -ftree-vectorize -fPIC -fstack-protector-strong -fno-plt -O2 -ffunction-sections -pipe -isystem /srv/conda/envs/notebook/include -fdebug-prefix-map=/home/conda/feedstock_root/build_artifacts/r-base-split_1648746271917/work=/usr/local/src/conda/r-base-4.0.5 -fdebug-prefix-map=/srv/conda/envs/notebook=/usr/local/src/conda-prefix  -c RcppExports.cpp -o RcppExports.o\n",
      "x86_64-conda-linux-gnu-c++ -std=gnu++17 -I\"/srv/conda/envs/notebook/lib/R/include\" -DNDEBUG  -I'/home/jupyter/R/x86_64-conda-linux-gnu-library/4.0/Rcpp/include' -I'/home/jupyter/R/x86_64-conda-linux-gnu-library/4.0/RcppArmadillo/include' -I'/home/jupyter/R/x86_64-conda-linux-gnu-library/4.0/testthat/include' -DNDEBUG -D_FORTIFY_SOURCE=2 -O2 -isystem /srv/conda/envs/notebook/include -I/srv/conda/envs/notebook/include -Wl,-rpath-link,/srv/conda/envs/notebook/lib  -fopenmp -fpic  -fvisibility-inlines-hidden  -fmessage-length=0 -march=nocona -mtune=haswell -ftree-vectorize -fPIC -fstack-protector-strong -fno-plt -O2 -ffunction-sections -pipe -isystem /srv/conda/envs/notebook/include -fdebug-prefix-map=/home/conda/feedstock_root/build_artifacts/r-base-split_1648746271917/work=/usr/local/src/conda/r-base-4.0.5 -fdebug-prefix-map=/srv/conda/envs/notebook=/usr/local/src/conda-prefix  -c abind.cpp -o abind.o\n",
      "x86_64-conda-linux-gnu-c++ -std=gnu++17 -I\"/srv/conda/envs/notebook/lib/R/include\" -DNDEBUG  -I'/home/jupyter/R/x86_64-conda-linux-gnu-library/4.0/Rcpp/include' -I'/home/jupyter/R/x86_64-conda-linux-gnu-library/4.0/RcppArmadillo/include' -I'/home/jupyter/R/x86_64-conda-linux-gnu-library/4.0/testthat/include' -DNDEBUG -D_FORTIFY_SOURCE=2 -O2 -isystem /srv/conda/envs/notebook/include -I/srv/conda/envs/notebook/include -Wl,-rpath-link,/srv/conda/envs/notebook/lib  -fopenmp -fpic  -fvisibility-inlines-hidden  -fmessage-length=0 -march=nocona -mtune=haswell -ftree-vectorize -fPIC -fstack-protector-strong -fno-plt -O2 -ffunction-sections -pipe -isystem /srv/conda/envs/notebook/include -fdebug-prefix-map=/home/conda/feedstock_root/build_artifacts/r-base-split_1648746271917/work=/usr/local/src/conda/r-base-4.0.5 -fdebug-prefix-map=/srv/conda/envs/notebook=/usr/local/src/conda-prefix  -c all_topological_sorts.cpp -o all_topological_sorts.o\n",
      "x86_64-conda-linux-gnu-c++ -std=gnu++17 -I\"/srv/conda/envs/notebook/lib/R/include\" -DNDEBUG  -I'/home/jupyter/R/x86_64-conda-linux-gnu-library/4.0/Rcpp/include' -I'/home/jupyter/R/x86_64-conda-linux-gnu-library/4.0/RcppArmadillo/include' -I'/home/jupyter/R/x86_64-conda-linux-gnu-library/4.0/testthat/include' -DNDEBUG -D_FORTIFY_SOURCE=2 -O2 -isystem /srv/conda/envs/notebook/include -I/srv/conda/envs/notebook/include -Wl,-rpath-link,/srv/conda/envs/notebook/lib  -fopenmp -fpic  -fvisibility-inlines-hidden  -fmessage-length=0 -march=nocona -mtune=haswell -ftree-vectorize -fPIC -fstack-protector-strong -fno-plt -O2 -ffunction-sections -pipe -isystem /srv/conda/envs/notebook/include -fdebug-prefix-map=/home/conda/feedstock_root/build_artifacts/r-base-split_1648746271917/work=/usr/local/src/conda/r-base-4.0.5 -fdebug-prefix-map=/srv/conda/envs/notebook=/usr/local/src/conda-prefix  -c asymptotic_partition_function.cpp -o asymptotic_partition_function.o\n",
      "x86_64-conda-linux-gnu-c++ -std=gnu++17 -I\"/srv/conda/envs/notebook/lib/R/include\" -DNDEBUG  -I'/home/jupyter/R/x86_64-conda-linux-gnu-library/4.0/Rcpp/include' -I'/home/jupyter/R/x86_64-conda-linux-gnu-library/4.0/RcppArmadillo/include' -I'/home/jupyter/R/x86_64-conda-linux-gnu-library/4.0/testthat/include' -DNDEBUG -D_FORTIFY_SOURCE=2 -O2 -isystem /srv/conda/envs/notebook/include -I/srv/conda/envs/notebook/include -Wl,-rpath-link,/srv/conda/envs/notebook/lib  -fopenmp -fpic  -fvisibility-inlines-hidden  -fmessage-length=0 -march=nocona -mtune=haswell -ftree-vectorize -fPIC -fstack-protector-strong -fno-plt -O2 -ffunction-sections -pipe -isystem /srv/conda/envs/notebook/include -fdebug-prefix-map=/home/conda/feedstock_root/build_artifacts/r-base-split_1648746271917/work=/usr/local/src/conda/r-base-4.0.5 -fdebug-prefix-map=/srv/conda/envs/notebook=/usr/local/src/conda-prefix  -c augmentation_class.cpp -o augmentation_class.o\n",
      "x86_64-conda-linux-gnu-c++ -std=gnu++17 -I\"/srv/conda/envs/notebook/lib/R/include\" -DNDEBUG  -I'/home/jupyter/R/x86_64-conda-linux-gnu-library/4.0/Rcpp/include' -I'/home/jupyter/R/x86_64-conda-linux-gnu-library/4.0/RcppArmadillo/include' -I'/home/jupyter/R/x86_64-conda-linux-gnu-library/4.0/testthat/include' -DNDEBUG -D_FORTIFY_SOURCE=2 -O2 -isystem /srv/conda/envs/notebook/include -I/srv/conda/envs/notebook/include -Wl,-rpath-link,/srv/conda/envs/notebook/lib  -fopenmp -fpic  -fvisibility-inlines-hidden  -fmessage-length=0 -march=nocona -mtune=haswell -ftree-vectorize -fPIC -fstack-protector-strong -fno-plt -O2 -ffunction-sections -pipe -isystem /srv/conda/envs/notebook/include -fdebug-prefix-map=/home/conda/feedstock_root/build_artifacts/r-base-split_1648746271917/work=/usr/local/src/conda/r-base-4.0.5 -fdebug-prefix-map=/srv/conda/envs/notebook=/usr/local/src/conda-prefix  -c clustering_class.cpp -o clustering_class.o\n",
      "x86_64-conda-linux-gnu-c++ -std=gnu++17 -I\"/srv/conda/envs/notebook/lib/R/include\" -DNDEBUG  -I'/home/jupyter/R/x86_64-conda-linux-gnu-library/4.0/Rcpp/include' -I'/home/jupyter/R/x86_64-conda-linux-gnu-library/4.0/RcppArmadillo/include' -I'/home/jupyter/R/x86_64-conda-linux-gnu-library/4.0/testthat/include' -DNDEBUG -D_FORTIFY_SOURCE=2 -O2 -isystem /srv/conda/envs/notebook/include -I/srv/conda/envs/notebook/include -Wl,-rpath-link,/srv/conda/envs/notebook/lib  -fopenmp -fpic  -fvisibility-inlines-hidden  -fmessage-length=0 -march=nocona -mtune=haswell -ftree-vectorize -fPIC -fstack-protector-strong -fno-plt -O2 -ffunction-sections -pipe -isystem /srv/conda/envs/notebook/include -fdebug-prefix-map=/home/conda/feedstock_root/build_artifacts/r-base-split_1648746271917/work=/usr/local/src/conda/r-base-4.0.5 -fdebug-prefix-map=/srv/conda/envs/notebook=/usr/local/src/conda-prefix  -c data_class.cpp -o data_class.o\n",
      "x86_64-conda-linux-gnu-c++ -std=gnu++17 -I\"/srv/conda/envs/notebook/lib/R/include\" -DNDEBUG  -I'/home/jupyter/R/x86_64-conda-linux-gnu-library/4.0/Rcpp/include' -I'/home/jupyter/R/x86_64-conda-linux-gnu-library/4.0/RcppArmadillo/include' -I'/home/jupyter/R/x86_64-conda-linux-gnu-library/4.0/testthat/include' -DNDEBUG -D_FORTIFY_SOURCE=2 -O2 -isystem /srv/conda/envs/notebook/include -I/srv/conda/envs/notebook/include -Wl,-rpath-link,/srv/conda/envs/notebook/lib  -fopenmp -fpic  -fvisibility-inlines-hidden  -fmessage-length=0 -march=nocona -mtune=haswell -ftree-vectorize -fPIC -fstack-protector-strong -fno-plt -O2 -ffunction-sections -pipe -isystem /srv/conda/envs/notebook/include -fdebug-prefix-map=/home/conda/feedstock_root/build_artifacts/r-base-split_1648746271917/work=/usr/local/src/conda/r-base-4.0.5 -fdebug-prefix-map=/srv/conda/envs/notebook=/usr/local/src/conda-prefix  -c distances.cpp -o distances.o\n",
      "x86_64-conda-linux-gnu-c++ -std=gnu++17 -I\"/srv/conda/envs/notebook/lib/R/include\" -DNDEBUG  -I'/home/jupyter/R/x86_64-conda-linux-gnu-library/4.0/Rcpp/include' -I'/home/jupyter/R/x86_64-conda-linux-gnu-library/4.0/RcppArmadillo/include' -I'/home/jupyter/R/x86_64-conda-linux-gnu-library/4.0/testthat/include' -DNDEBUG -D_FORTIFY_SOURCE=2 -O2 -isystem /srv/conda/envs/notebook/include -I/srv/conda/envs/notebook/include -Wl,-rpath-link,/srv/conda/envs/notebook/lib  -fopenmp -fpic  -fvisibility-inlines-hidden  -fmessage-length=0 -march=nocona -mtune=haswell -ftree-vectorize -fPIC -fstack-protector-strong -fno-plt -O2 -ffunction-sections -pipe -isystem /srv/conda/envs/notebook/include -fdebug-prefix-map=/home/conda/feedstock_root/build_artifacts/r-base-split_1648746271917/work=/usr/local/src/conda/r-base-4.0.5 -fdebug-prefix-map=/srv/conda/envs/notebook=/usr/local/src/conda-prefix  -c distributions.cpp -o distributions.o\n"
     ]
    },
    {
     "name": "stdout",
     "output_type": "stream",
     "text": [
      "x86_64-conda-linux-gnu-c++ -std=gnu++17 -I\"/srv/conda/envs/notebook/lib/R/include\" -DNDEBUG  -I'/home/jupyter/R/x86_64-conda-linux-gnu-library/4.0/Rcpp/include' -I'/home/jupyter/R/x86_64-conda-linux-gnu-library/4.0/RcppArmadillo/include' -I'/home/jupyter/R/x86_64-conda-linux-gnu-library/4.0/testthat/include' -DNDEBUG -D_FORTIFY_SOURCE=2 -O2 -isystem /srv/conda/envs/notebook/include -I/srv/conda/envs/notebook/include -Wl,-rpath-link,/srv/conda/envs/notebook/lib  -fopenmp -fpic  -fvisibility-inlines-hidden  -fmessage-length=0 -march=nocona -mtune=haswell -ftree-vectorize -fPIC -fstack-protector-strong -fno-plt -O2 -ffunction-sections -pipe -isystem /srv/conda/envs/notebook/include -fdebug-prefix-map=/home/conda/feedstock_root/build_artifacts/r-base-split_1648746271917/work=/usr/local/src/conda/r-base-4.0.5 -fdebug-prefix-map=/srv/conda/envs/notebook=/usr/local/src/conda-prefix  -c importance_sampling.cpp -o importance_sampling.o\n",
      "x86_64-conda-linux-gnu-c++ -std=gnu++17 -I\"/srv/conda/envs/notebook/lib/R/include\" -DNDEBUG  -I'/home/jupyter/R/x86_64-conda-linux-gnu-library/4.0/Rcpp/include' -I'/home/jupyter/R/x86_64-conda-linux-gnu-library/4.0/RcppArmadillo/include' -I'/home/jupyter/R/x86_64-conda-linux-gnu-library/4.0/testthat/include' -DNDEBUG -D_FORTIFY_SOURCE=2 -O2 -isystem /srv/conda/envs/notebook/include -I/srv/conda/envs/notebook/include -Wl,-rpath-link,/srv/conda/envs/notebook/lib  -fopenmp -fpic  -fvisibility-inlines-hidden  -fmessage-length=0 -march=nocona -mtune=haswell -ftree-vectorize -fPIC -fstack-protector-strong -fno-plt -O2 -ffunction-sections -pipe -isystem /srv/conda/envs/notebook/include -fdebug-prefix-map=/home/conda/feedstock_root/build_artifacts/r-base-split_1648746271917/work=/usr/local/src/conda/r-base-4.0.5 -fdebug-prefix-map=/srv/conda/envs/notebook=/usr/local/src/conda-prefix  -c missing_data_functions.cpp -o missing_data_functions.o\n",
      "x86_64-conda-linux-gnu-c++ -std=gnu++17 -I\"/srv/conda/envs/notebook/lib/R/include\" -DNDEBUG  -I'/home/jupyter/R/x86_64-conda-linux-gnu-library/4.0/Rcpp/include' -I'/home/jupyter/R/x86_64-conda-linux-gnu-library/4.0/RcppArmadillo/include' -I'/home/jupyter/R/x86_64-conda-linux-gnu-library/4.0/testthat/include' -DNDEBUG -D_FORTIFY_SOURCE=2 -O2 -isystem /srv/conda/envs/notebook/include -I/srv/conda/envs/notebook/include -Wl,-rpath-link,/srv/conda/envs/notebook/lib  -fopenmp -fpic  -fvisibility-inlines-hidden  -fmessage-length=0 -march=nocona -mtune=haswell -ftree-vectorize -fPIC -fstack-protector-strong -fno-plt -O2 -ffunction-sections -pipe -isystem /srv/conda/envs/notebook/include -fdebug-prefix-map=/home/conda/feedstock_root/build_artifacts/r-base-split_1648746271917/work=/usr/local/src/conda/r-base-4.0.5 -fdebug-prefix-map=/srv/conda/envs/notebook=/usr/local/src/conda-prefix  -c parameters_class.cpp -o parameters_class.o\n",
      "x86_64-conda-linux-gnu-c++ -std=gnu++17 -I\"/srv/conda/envs/notebook/lib/R/include\" -DNDEBUG  -I'/home/jupyter/R/x86_64-conda-linux-gnu-library/4.0/Rcpp/include' -I'/home/jupyter/R/x86_64-conda-linux-gnu-library/4.0/RcppArmadillo/include' -I'/home/jupyter/R/x86_64-conda-linux-gnu-library/4.0/testthat/include' -DNDEBUG -D_FORTIFY_SOURCE=2 -O2 -isystem /srv/conda/envs/notebook/include -I/srv/conda/envs/notebook/include -Wl,-rpath-link,/srv/conda/envs/notebook/lib  -fopenmp -fpic  -fvisibility-inlines-hidden  -fmessage-length=0 -march=nocona -mtune=haswell -ftree-vectorize -fPIC -fstack-protector-strong -fno-plt -O2 -ffunction-sections -pipe -isystem /srv/conda/envs/notebook/include -fdebug-prefix-map=/home/conda/feedstock_root/build_artifacts/r-base-split_1648746271917/work=/usr/local/src/conda/r-base-4.0.5 -fdebug-prefix-map=/srv/conda/envs/notebook=/usr/local/src/conda-prefix  -c particles.cpp -o particles.o\n",
      "x86_64-conda-linux-gnu-c++ -std=gnu++17 -I\"/srv/conda/envs/notebook/lib/R/include\" -DNDEBUG  -I'/home/jupyter/R/x86_64-conda-linux-gnu-library/4.0/Rcpp/include' -I'/home/jupyter/R/x86_64-conda-linux-gnu-library/4.0/RcppArmadillo/include' -I'/home/jupyter/R/x86_64-conda-linux-gnu-library/4.0/testthat/include' -DNDEBUG -D_FORTIFY_SOURCE=2 -O2 -isystem /srv/conda/envs/notebook/include -I/srv/conda/envs/notebook/include -Wl,-rpath-link,/srv/conda/envs/notebook/lib  -fopenmp -fpic  -fvisibility-inlines-hidden  -fmessage-length=0 -march=nocona -mtune=haswell -ftree-vectorize -fPIC -fstack-protector-strong -fno-plt -O2 -ffunction-sections -pipe -isystem /srv/conda/envs/notebook/include -fdebug-prefix-map=/home/conda/feedstock_root/build_artifacts/r-base-split_1648746271917/work=/usr/local/src/conda/r-base-4.0.5 -fdebug-prefix-map=/srv/conda/envs/notebook=/usr/local/src/conda-prefix  -c partition_functions.cpp -o partition_functions.o\n",
      "x86_64-conda-linux-gnu-c++ -std=gnu++17 -I\"/srv/conda/envs/notebook/lib/R/include\" -DNDEBUG  -I'/home/jupyter/R/x86_64-conda-linux-gnu-library/4.0/Rcpp/include' -I'/home/jupyter/R/x86_64-conda-linux-gnu-library/4.0/RcppArmadillo/include' -I'/home/jupyter/R/x86_64-conda-linux-gnu-library/4.0/testthat/include' -DNDEBUG -D_FORTIFY_SOURCE=2 -O2 -isystem /srv/conda/envs/notebook/include -I/srv/conda/envs/notebook/include -Wl,-rpath-link,/srv/conda/envs/notebook/lib  -fopenmp -fpic  -fvisibility-inlines-hidden  -fmessage-length=0 -march=nocona -mtune=haswell -ftree-vectorize -fPIC -fstack-protector-strong -fno-plt -O2 -ffunction-sections -pipe -isystem /srv/conda/envs/notebook/include -fdebug-prefix-map=/home/conda/feedstock_root/build_artifacts/r-base-split_1648746271917/work=/usr/local/src/conda/r-base-4.0.5 -fdebug-prefix-map=/srv/conda/envs/notebook=/usr/local/src/conda-prefix  -c progress_reporter.cpp -o progress_reporter.o\n",
      "x86_64-conda-linux-gnu-c++ -std=gnu++17 -I\"/srv/conda/envs/notebook/lib/R/include\" -DNDEBUG  -I'/home/jupyter/R/x86_64-conda-linux-gnu-library/4.0/Rcpp/include' -I'/home/jupyter/R/x86_64-conda-linux-gnu-library/4.0/RcppArmadillo/include' -I'/home/jupyter/R/x86_64-conda-linux-gnu-library/4.0/testthat/include' -DNDEBUG -D_FORTIFY_SOURCE=2 -O2 -isystem /srv/conda/envs/notebook/include -I/srv/conda/envs/notebook/include -Wl,-rpath-link,/srv/conda/envs/notebook/lib  -fopenmp -fpic  -fvisibility-inlines-hidden  -fmessage-length=0 -march=nocona -mtune=haswell -ftree-vectorize -fPIC -fstack-protector-strong -fno-plt -O2 -ffunction-sections -pipe -isystem /srv/conda/envs/notebook/include -fdebug-prefix-map=/home/conda/feedstock_root/build_artifacts/r-base-split_1648746271917/work=/usr/local/src/conda/r-base-4.0.5 -fdebug-prefix-map=/srv/conda/envs/notebook=/usr/local/src/conda-prefix  -c proposal_functions.cpp -o proposal_functions.o\n",
      "x86_64-conda-linux-gnu-c++ -std=gnu++17 -I\"/srv/conda/envs/notebook/lib/R/include\" -DNDEBUG  -I'/home/jupyter/R/x86_64-conda-linux-gnu-library/4.0/Rcpp/include' -I'/home/jupyter/R/x86_64-conda-linux-gnu-library/4.0/RcppArmadillo/include' -I'/home/jupyter/R/x86_64-conda-linux-gnu-library/4.0/testthat/include' -DNDEBUG -D_FORTIFY_SOURCE=2 -O2 -isystem /srv/conda/envs/notebook/include -I/srv/conda/envs/notebook/include -Wl,-rpath-link,/srv/conda/envs/notebook/lib  -fopenmp -fpic  -fvisibility-inlines-hidden  -fmessage-length=0 -march=nocona -mtune=haswell -ftree-vectorize -fPIC -fstack-protector-strong -fno-plt -O2 -ffunction-sections -pipe -isystem /srv/conda/envs/notebook/include -fdebug-prefix-map=/home/conda/feedstock_root/build_artifacts/r-base-split_1648746271917/work=/usr/local/src/conda/r-base-4.0.5 -fdebug-prefix-map=/srv/conda/envs/notebook=/usr/local/src/conda-prefix  -c rank_proposal.cpp -o rank_proposal.o\n",
      "x86_64-conda-linux-gnu-c++ -std=gnu++17 -I\"/srv/conda/envs/notebook/lib/R/include\" -DNDEBUG  -I'/home/jupyter/R/x86_64-conda-linux-gnu-library/4.0/Rcpp/include' -I'/home/jupyter/R/x86_64-conda-linux-gnu-library/4.0/RcppArmadillo/include' -I'/home/jupyter/R/x86_64-conda-linux-gnu-library/4.0/testthat/include' -DNDEBUG -D_FORTIFY_SOURCE=2 -O2 -isystem /srv/conda/envs/notebook/include -I/srv/conda/envs/notebook/include -Wl,-rpath-link,/srv/conda/envs/notebook/lib  -fopenmp -fpic  -fvisibility-inlines-hidden  -fmessage-length=0 -march=nocona -mtune=haswell -ftree-vectorize -fPIC -fstack-protector-strong -fno-plt -O2 -ffunction-sections -pipe -isystem /srv/conda/envs/notebook/include -fdebug-prefix-map=/home/conda/feedstock_root/build_artifacts/r-base-split_1648746271917/work=/usr/local/src/conda/r-base-4.0.5 -fdebug-prefix-map=/srv/conda/envs/notebook=/usr/local/src/conda-prefix  -c resampler.cpp -o resampler.o\n"
     ]
    },
    {
     "name": "stdout",
     "output_type": "stream",
     "text": [
      "x86_64-conda-linux-gnu-c++ -std=gnu++17 -I\"/srv/conda/envs/notebook/lib/R/include\" -DNDEBUG  -I'/home/jupyter/R/x86_64-conda-linux-gnu-library/4.0/Rcpp/include' -I'/home/jupyter/R/x86_64-conda-linux-gnu-library/4.0/RcppArmadillo/include' -I'/home/jupyter/R/x86_64-conda-linux-gnu-library/4.0/testthat/include' -DNDEBUG -D_FORTIFY_SOURCE=2 -O2 -isystem /srv/conda/envs/notebook/include -I/srv/conda/envs/notebook/include -Wl,-rpath-link,/srv/conda/envs/notebook/lib  -fopenmp -fpic  -fvisibility-inlines-hidden  -fmessage-length=0 -march=nocona -mtune=haswell -ftree-vectorize -fPIC -fstack-protector-strong -fno-plt -O2 -ffunction-sections -pipe -isystem /srv/conda/envs/notebook/include -fdebug-prefix-map=/home/conda/feedstock_root/build_artifacts/r-base-split_1648746271917/work=/usr/local/src/conda/r-base-4.0.5 -fdebug-prefix-map=/srv/conda/envs/notebook=/usr/local/src/conda-prefix  -c rmallows.cpp -o rmallows.o\n",
      "x86_64-conda-linux-gnu-c++ -std=gnu++17 -I\"/srv/conda/envs/notebook/lib/R/include\" -DNDEBUG  -I'/home/jupyter/R/x86_64-conda-linux-gnu-library/4.0/Rcpp/include' -I'/home/jupyter/R/x86_64-conda-linux-gnu-library/4.0/RcppArmadillo/include' -I'/home/jupyter/R/x86_64-conda-linux-gnu-library/4.0/testthat/include' -DNDEBUG -D_FORTIFY_SOURCE=2 -O2 -isystem /srv/conda/envs/notebook/include -I/srv/conda/envs/notebook/include -Wl,-rpath-link,/srv/conda/envs/notebook/lib  -fopenmp -fpic  -fvisibility-inlines-hidden  -fmessage-length=0 -march=nocona -mtune=haswell -ftree-vectorize -fPIC -fstack-protector-strong -fno-plt -O2 -ffunction-sections -pipe -isystem /srv/conda/envs/notebook/include -fdebug-prefix-map=/home/conda/feedstock_root/build_artifacts/r-base-split_1648746271917/work=/usr/local/src/conda/r-base-4.0.5 -fdebug-prefix-map=/srv/conda/envs/notebook=/usr/local/src/conda-prefix  -c run_mcmc.cpp -o run_mcmc.o\n",
      "x86_64-conda-linux-gnu-c++ -std=gnu++17 -I\"/srv/conda/envs/notebook/lib/R/include\" -DNDEBUG  -I'/home/jupyter/R/x86_64-conda-linux-gnu-library/4.0/Rcpp/include' -I'/home/jupyter/R/x86_64-conda-linux-gnu-library/4.0/RcppArmadillo/include' -I'/home/jupyter/R/x86_64-conda-linux-gnu-library/4.0/testthat/include' -DNDEBUG -D_FORTIFY_SOURCE=2 -O2 -isystem /srv/conda/envs/notebook/include -I/srv/conda/envs/notebook/include -Wl,-rpath-link,/srv/conda/envs/notebook/lib  -fopenmp -fpic  -fvisibility-inlines-hidden  -fmessage-length=0 -march=nocona -mtune=haswell -ftree-vectorize -fPIC -fstack-protector-strong -fno-plt -O2 -ffunction-sections -pipe -isystem /srv/conda/envs/notebook/include -fdebug-prefix-map=/home/conda/feedstock_root/build_artifacts/r-base-split_1648746271917/work=/usr/local/src/conda/r-base-4.0.5 -fdebug-prefix-map=/srv/conda/envs/notebook=/usr/local/src/conda-prefix  -c run_smc.cpp -o run_smc.o\n",
      "x86_64-conda-linux-gnu-c++ -std=gnu++17 -I\"/srv/conda/envs/notebook/lib/R/include\" -DNDEBUG  -I'/home/jupyter/R/x86_64-conda-linux-gnu-library/4.0/Rcpp/include' -I'/home/jupyter/R/x86_64-conda-linux-gnu-library/4.0/RcppArmadillo/include' -I'/home/jupyter/R/x86_64-conda-linux-gnu-library/4.0/testthat/include' -DNDEBUG -D_FORTIFY_SOURCE=2 -O2 -isystem /srv/conda/envs/notebook/include -I/srv/conda/envs/notebook/include -Wl,-rpath-link,/srv/conda/envs/notebook/lib  -fopenmp -fpic  -fvisibility-inlines-hidden  -fmessage-length=0 -march=nocona -mtune=haswell -ftree-vectorize -fPIC -fstack-protector-strong -fno-plt -O2 -ffunction-sections -pipe -isystem /srv/conda/envs/notebook/include -fdebug-prefix-map=/home/conda/feedstock_root/build_artifacts/r-base-split_1648746271917/work=/usr/local/src/conda/r-base-4.0.5 -fdebug-prefix-map=/srv/conda/envs/notebook=/usr/local/src/conda-prefix  -c setdiff.cpp -o setdiff.o\n",
      "x86_64-conda-linux-gnu-c++ -std=gnu++17 -I\"/srv/conda/envs/notebook/lib/R/include\" -DNDEBUG  -I'/home/jupyter/R/x86_64-conda-linux-gnu-library/4.0/Rcpp/include' -I'/home/jupyter/R/x86_64-conda-linux-gnu-library/4.0/RcppArmadillo/include' -I'/home/jupyter/R/x86_64-conda-linux-gnu-library/4.0/testthat/include' -DNDEBUG -D_FORTIFY_SOURCE=2 -O2 -isystem /srv/conda/envs/notebook/include -I/srv/conda/envs/notebook/include -Wl,-rpath-link,/srv/conda/envs/notebook/lib  -fopenmp -fpic  -fvisibility-inlines-hidden  -fmessage-length=0 -march=nocona -mtune=haswell -ftree-vectorize -fPIC -fstack-protector-strong -fno-plt -O2 -ffunction-sections -pipe -isystem /srv/conda/envs/notebook/include -fdebug-prefix-map=/home/conda/feedstock_root/build_artifacts/r-base-split_1648746271917/work=/usr/local/src/conda/r-base-4.0.5 -fdebug-prefix-map=/srv/conda/envs/notebook=/usr/local/src/conda-prefix  -c smc_augmentation_class.cpp -o smc_augmentation_class.o\n",
      "x86_64-conda-linux-gnu-c++ -std=gnu++17 -I\"/srv/conda/envs/notebook/lib/R/include\" -DNDEBUG  -I'/home/jupyter/R/x86_64-conda-linux-gnu-library/4.0/Rcpp/include' -I'/home/jupyter/R/x86_64-conda-linux-gnu-library/4.0/RcppArmadillo/include' -I'/home/jupyter/R/x86_64-conda-linux-gnu-library/4.0/testthat/include' -DNDEBUG -D_FORTIFY_SOURCE=2 -O2 -isystem /srv/conda/envs/notebook/include -I/srv/conda/envs/notebook/include -Wl,-rpath-link,/srv/conda/envs/notebook/lib  -fopenmp -fpic  -fvisibility-inlines-hidden  -fmessage-length=0 -march=nocona -mtune=haswell -ftree-vectorize -fPIC -fstack-protector-strong -fno-plt -O2 -ffunction-sections -pipe -isystem /srv/conda/envs/notebook/include -fdebug-prefix-map=/home/conda/feedstock_root/build_artifacts/r-base-split_1648746271917/work=/usr/local/src/conda/r-base-4.0.5 -fdebug-prefix-map=/srv/conda/envs/notebook=/usr/local/src/conda-prefix  -c smc_data_class.cpp -o smc_data_class.o\n",
      "x86_64-conda-linux-gnu-c++ -std=gnu++17 -I\"/srv/conda/envs/notebook/lib/R/include\" -DNDEBUG  -I'/home/jupyter/R/x86_64-conda-linux-gnu-library/4.0/Rcpp/include' -I'/home/jupyter/R/x86_64-conda-linux-gnu-library/4.0/RcppArmadillo/include' -I'/home/jupyter/R/x86_64-conda-linux-gnu-library/4.0/testthat/include' -DNDEBUG -D_FORTIFY_SOURCE=2 -O2 -isystem /srv/conda/envs/notebook/include -I/srv/conda/envs/notebook/include -Wl,-rpath-link,/srv/conda/envs/notebook/lib  -fopenmp -fpic  -fvisibility-inlines-hidden  -fmessage-length=0 -march=nocona -mtune=haswell -ftree-vectorize -fPIC -fstack-protector-strong -fno-plt -O2 -ffunction-sections -pipe -isystem /srv/conda/envs/notebook/include -fdebug-prefix-map=/home/conda/feedstock_root/build_artifacts/r-base-split_1648746271917/work=/usr/local/src/conda/r-base-4.0.5 -fdebug-prefix-map=/srv/conda/envs/notebook=/usr/local/src/conda-prefix  -c smc_parameters_class.cpp -o smc_parameters_class.o\n",
      "x86_64-conda-linux-gnu-c++ -std=gnu++17 -shared -L/srv/conda/envs/notebook/lib/R/lib -Wl,-O2 -Wl,--sort-common -Wl,--as-needed -Wl,-z,relro -Wl,-z,now -Wl,--disable-new-dtags -Wl,--gc-sections -Wl,--allow-shlib-undefined -Wl,-rpath,/srv/conda/envs/notebook/lib -Wl,-rpath-link,/srv/conda/envs/notebook/lib -L/srv/conda/envs/notebook/lib -o BayesMallows.so RcppExports.o abind.o all_topological_sorts.o asymptotic_partition_function.o augmentation_class.o clustering_class.o data_class.o distances.o distributions.o importance_sampling.o missing_data_functions.o parameters_class.o particles.o partition_functions.o progress_reporter.o proposal_functions.o rank_proposal.o resampler.o rmallows.o run_mcmc.o run_smc.o setdiff.o smc_augmentation_class.o smc_data_class.o smc_parameters_class.o -fopenmp -llapack -lblas -lgfortran -lm -lquadmath -L/srv/conda/envs/notebook/lib/R/lib -lR\n"
     ]
    },
    {
     "name": "stderr",
     "output_type": "stream",
     "text": [
      "installing to /home/jupyter/R/x86_64-conda-linux-gnu-library/4.0/00LOCK-BayesMallows/00new/BayesMallows/libs\n",
      "** R\n",
      "** data\n",
      "*** moving datasets to lazyload DB\n",
      "** inst\n",
      "** byte-compile and prepare package for lazy loading\n",
      "** help\n",
      "*** installing help indices\n",
      "*** copying figures\n",
      "** building package indices\n",
      "** installing vignettes\n",
      "** testing if installed package can be loaded from temporary location\n",
      "** checking absolute paths in shared objects and dynamic libraries\n",
      "** testing if installed package can be loaded from final location\n",
      "** testing if installed package keeps a record of temporary installation path\n",
      "* DONE (BayesMallows)\n"
     ]
    },
    {
     "data": {
      "text/plain": [
       "Installing package into ‘/home/jupyter/R/x86_64-conda-linux-gnu-library/4.0’\n",
       "(as ‘lib’ is unspecified)\n",
       "trying URL 'https://cloud.r-project.org/src/contrib/BayesMallows_2.2.3.tar.gz'\n",
       "Content type 'application/x-gzip' length 4377695 bytes (4.2 MB)\n",
       "==================================================\n",
       "downloaded 4.2 MB\n",
       "\n",
       "\n",
       "The downloaded source packages are in\n",
       "\t‘/tmp/RtmpXwuCYT/downloaded_packages’\n"
      ]
     },
     "metadata": {},
     "output_type": "display_data"
    }
   ],
   "source": [
    "%%R\n",
    "options(repos = c(CRAN = \"https://cloud.r-project.org\"))\n",
    "library(BayesMallows)"
   ]
  },
  {
   "cell_type": "markdown",
   "id": "bcccf870",
   "metadata": {},
   "source": [
    "-------------------------------------------\n",
    "# Let's Start! :)\n",
    "-------------------------------------------\n"
   ]
  },
  {
   "cell_type": "markdown",
   "id": "83c642dd",
   "metadata": {},
   "source": [
    "# 1) Loading Data\n",
    "\n",
    "## We begin by loading some data. Later you can choose which one you want to analyse."
   ]
  },
  {
   "cell_type": "markdown",
   "id": "44e7787f",
   "metadata": {},
   "source": [
    "### a)\n",
    "\n",
    "We loade the Multilaps dataset (see https://preflib.github.io/PrefLib-Jekyll/dataset/00049)\n",
    "\n",
    "*This dataset is generated from multi-lap sports competitions.\n",
    "It contains the completion time of athletes in each lap of a multi-lap competition (specifically, speed skating and cycling competitions) crawled from results.sporthive.com. The data corresponds to one race in which the athletes are the candidates and each vote corresponds to one lap and ranks the athletes by their completion time. It is a post-processed version where some candidates and voters mimght have been deleted to make the election complete.\n",
    "This dataset is part of a larger study by Boehmer and Schaar (see this page for a more detailed description of the dataset, the post-processing, and pointers to similar datasets). If you have any questions, please contact: niclas.boehmer@tu-berlin.de.*"
   ]
  },
  {
   "cell_type": "code",
   "execution_count": null,
   "id": "9e8f4190",
   "metadata": {
    "trusted": false
   },
   "outputs": [],
   "source": [
    "instance_multilaps = OrdinalInstance()\n",
    "instance_multilaps.parse_url(\"https://raw.githubusercontent.com/PrefLib/PrefLib-Data/main/datasets/00049%20-%20mylaps/00049-00000153.soc\")"
   ]
  },
  {
   "cell_type": "markdown",
   "id": "069dfafa",
   "metadata": {},
   "source": [
    "### b)\n",
    "\n",
    "We loade the t-shirt dataset (see https://preflib.github.io/PrefLib-Jekyll/dataset/00012)\n",
    "\n",
    "*This dataset contains complete rank orderings of T-Shirt designs voted on by members of the Optimization Research Group at NICTA. There are 11 designs (candidates) and 30 votes about these deisgns. Voters were required to submit complete strict orders.*"
   ]
  },
  {
   "cell_type": "code",
   "execution_count": null,
   "id": "e28b70bd",
   "metadata": {
    "trusted": false
   },
   "outputs": [],
   "source": [
    "instance_shirt = OrdinalInstance()\n",
    "instance_shirt.parse_url(\"https://raw.githubusercontent.com/PrefLib/PrefLib-Data/main/datasets/00012%20-%20shirt/00012-00000001.soc\")"
   ]
  },
  {
   "cell_type": "markdown",
   "id": "abf59ca8",
   "metadata": {},
   "source": [
    "### c)\n",
    "\n",
    "We loade the Sushi Data (00014) dataset (see https://preflib.github.io/PrefLib-Jekyll/dataset/00014)\n",
    "\n",
    "*This dataset contains the results of a series of surveys conducted by Toshihiro Kamishima asking 5000 individuals for their preferences about various kinds of sushi. Element Series 00000001 contains 10 complete strict rank orders of 10 different kinds of sushi.*"
   ]
  },
  {
   "cell_type": "code",
   "execution_count": null,
   "id": "ad275905",
   "metadata": {
    "trusted": false
   },
   "outputs": [],
   "source": [
    "instance_sushi = OrdinalInstance()\n",
    "instance_sushi.parse_url(\"https://raw.githubusercontent.com/PrefLib/PrefLib-Data/main/datasets/00014%20-%20sushi/00014-00000001.soc\")"
   ]
  },
  {
   "cell_type": "markdown",
   "id": "b488e339",
   "metadata": {},
   "source": [
    "### d)\n",
    "\n",
    "We loade the Seasons Power Ranking (00056) dataset (see https://preflib.github.io/PrefLib-Jekyll/dataset/00056)\n",
    "\n",
    "*This dataset contains elections generated from weekly power rankings. Specifically, the underlying power ranking data (kaggle.com/masseyratings/rankings) contains weekly power rankings of college basketball teams (between 2001 and 2021), college baseball teams (between 2010 and 2021), and college American football teams (between 1997 and 2021) from different media outlets and ranking systems.*\n",
    "\n",
    "*For each of the three sports (basketball, baseball, American football), for each season and each ranking system, we created an election where each vote corresponds to the power ranking of the teams in one week of the season according to the ranking system.*\n",
    "\n",
    "*Each patch contains the raw election and a post-processed version where some candidates and voters are deleted to make the election complete. The name of each patch starts with the sports, followed by the relevant year and ranking system.*\n",
    "\n",
    "*The combined power rankings and weekly power rankings datasets were generated from the same data.*\n",
    "\n",
    "*This dataset is part of a larger study by Boehmer and Schaar (see this page for a more detailed description of the dataset, the post-processing, and pointers to similar datasets): Niclas Boehmer and Nathan Schaar. Collecting, Classifying, Analyzing, and Using Real-World Elections. Arxiv.org/abs/2204.03589, 2022 (Bibtex).*"
   ]
  },
  {
   "cell_type": "code",
   "execution_count": null,
   "id": "58be69e9",
   "metadata": {
    "trusted": false
   },
   "outputs": [],
   "source": [
    "instance_power = OrdinalInstance()\n",
    "instance_power.parse_url(\"https://raw.githubusercontent.com/PrefLib/PrefLib-Data/main/datasets/00056%20-%20seasonsport/00056-00000746.soc\")"
   ]
  },
  {
   "cell_type": "markdown",
   "id": "e1a77d40",
   "metadata": {},
   "source": [
    "## --> Now choose an instance!\n",
    "\n",
    "**Task**: \n",
    "1) Uncomment one of the lines below to select an instance. E.g. instance = instance_multilaps\n",
    "\n",
    "2) Run the code and look at the number of assessors and items. What do you expect: how well can we fit a Mallows model? will we need a lot of iterations?"
   ]
  },
  {
   "cell_type": "code",
   "execution_count": null,
   "id": "4232e779",
   "metadata": {
    "trusted": false
   },
   "outputs": [
    {
     "name": "stdout",
     "output_type": "stream",
     "text": [
      "number of voters: 5000\n",
      "... of which unique orders: 4926\n",
      "number of alternatives: 10\n",
      "Too many voters: 5000. I will only list the first 30.\n",
      "Voter 1: Item 7 ≻ Item 4 ≻ Item 5 ≻ Item 1 ≻ Item 10 ≻ Item 2 ≻ Item 8 ≻ Item 3 ≻ Item 9 ≻ Item 6\n",
      "Voter 2: Item 7 ≻ Item 4 ≻ Item 5 ≻ Item 1 ≻ Item 10 ≻ Item 2 ≻ Item 8 ≻ Item 3 ≻ Item 9 ≻ Item 6\n",
      "Voter 3: Item 7 ≻ Item 4 ≻ Item 5 ≻ Item 1 ≻ Item 10 ≻ Item 2 ≻ Item 8 ≻ Item 3 ≻ Item 9 ≻ Item 6\n",
      "Voter 4: Item 4 ≻ Item 5 ≻ Item 7 ≻ Item 2 ≻ Item 10 ≻ Item 3 ≻ Item 8 ≻ Item 1 ≻ Item 6 ≻ Item 9\n",
      "Voter 5: Item 4 ≻ Item 5 ≻ Item 7 ≻ Item 2 ≻ Item 10 ≻ Item 3 ≻ Item 8 ≻ Item 1 ≻ Item 6 ≻ Item 9\n",
      "Voter 6: Item 4 ≻ Item 5 ≻ Item 7 ≻ Item 2 ≻ Item 10 ≻ Item 3 ≻ Item 8 ≻ Item 1 ≻ Item 6 ≻ Item 9\n",
      "Voter 7: Item 4 ≻ Item 5 ≻ Item 7 ≻ Item 2 ≻ Item 10 ≻ Item 3 ≻ Item 1 ≻ Item 8 ≻ Item 6 ≻ Item 9\n",
      "Voter 8: Item 4 ≻ Item 5 ≻ Item 7 ≻ Item 2 ≻ Item 10 ≻ Item 3 ≻ Item 1 ≻ Item 8 ≻ Item 6 ≻ Item 9\n",
      "Voter 9: Item 4 ≻ Item 5 ≻ Item 7 ≻ Item 2 ≻ Item 10 ≻ Item 3 ≻ Item 1 ≻ Item 8 ≻ Item 6 ≻ Item 9\n",
      "Voter 10: Item 1 ≻ Item 4 ≻ Item 5 ≻ Item 7 ≻ Item 2 ≻ Item 10 ≻ Item 8 ≻ Item 6 ≻ Item 9 ≻ Item 3\n",
      "Voter 11: Item 1 ≻ Item 4 ≻ Item 5 ≻ Item 7 ≻ Item 2 ≻ Item 10 ≻ Item 8 ≻ Item 6 ≻ Item 9 ≻ Item 3\n",
      "Voter 12: Item 1 ≻ Item 4 ≻ Item 5 ≻ Item 7 ≻ Item 2 ≻ Item 10 ≻ Item 8 ≻ Item 6 ≻ Item 9 ≻ Item 3\n",
      "Voter 13: Item 4 ≻ Item 7 ≻ Item 5 ≻ Item 1 ≻ Item 2 ≻ Item 10 ≻ Item 3 ≻ Item 8 ≻ Item 6 ≻ Item 9\n",
      "Voter 14: Item 4 ≻ Item 7 ≻ Item 5 ≻ Item 1 ≻ Item 2 ≻ Item 10 ≻ Item 3 ≻ Item 8 ≻ Item 6 ≻ Item 9\n",
      "Voter 15: Item 4 ≻ Item 7 ≻ Item 5 ≻ Item 1 ≻ Item 2 ≻ Item 10 ≻ Item 3 ≻ Item 8 ≻ Item 6 ≻ Item 9\n",
      "Voter 16: Item 7 ≻ Item 2 ≻ Item 5 ≻ Item 4 ≻ Item 8 ≻ Item 1 ≻ Item 10 ≻ Item 3 ≻ Item 9 ≻ Item 6\n",
      "Voter 17: Item 7 ≻ Item 2 ≻ Item 5 ≻ Item 4 ≻ Item 8 ≻ Item 1 ≻ Item 10 ≻ Item 3 ≻ Item 9 ≻ Item 6\n",
      "Voter 18: Item 7 ≻ Item 2 ≻ Item 5 ≻ Item 4 ≻ Item 8 ≻ Item 1 ≻ Item 10 ≻ Item 3 ≻ Item 9 ≻ Item 6\n",
      "Voter 19: Item 7 ≻ Item 4 ≻ Item 10 ≻ Item 2 ≻ Item 5 ≻ Item 3 ≻ Item 1 ≻ Item 8 ≻ Item 9 ≻ Item 6\n",
      "Voter 20: Item 7 ≻ Item 4 ≻ Item 10 ≻ Item 2 ≻ Item 5 ≻ Item 3 ≻ Item 1 ≻ Item 8 ≻ Item 9 ≻ Item 6\n",
      "Voter 21: Item 2 ≻ Item 7 ≻ Item 8 ≻ Item 1 ≻ Item 10 ≻ Item 3 ≻ Item 6 ≻ Item 9 ≻ Item 5 ≻ Item 4\n",
      "Voter 22: Item 2 ≻ Item 7 ≻ Item 8 ≻ Item 1 ≻ Item 10 ≻ Item 3 ≻ Item 6 ≻ Item 9 ≻ Item 5 ≻ Item 4\n",
      "Voter 23: Item 7 ≻ Item 2 ≻ Item 8 ≻ Item 3 ≻ Item 9 ≻ Item 10 ≻ Item 6 ≻ Item 1 ≻ Item 5 ≻ Item 4\n",
      "Voter 24: Item 7 ≻ Item 2 ≻ Item 8 ≻ Item 3 ≻ Item 9 ≻ Item 10 ≻ Item 6 ≻ Item 1 ≻ Item 5 ≻ Item 4\n",
      "Voter 25: Item 7 ≻ Item 2 ≻ Item 4 ≻ Item 5 ≻ Item 1 ≻ Item 8 ≻ Item 10 ≻ Item 3 ≻ Item 9 ≻ Item 6\n",
      "Voter 26: Item 7 ≻ Item 2 ≻ Item 4 ≻ Item 5 ≻ Item 1 ≻ Item 8 ≻ Item 10 ≻ Item 3 ≻ Item 9 ≻ Item 6\n",
      "Voter 27: Item 7 ≻ Item 5 ≻ Item 4 ≻ Item 2 ≻ Item 10 ≻ Item 1 ≻ Item 3 ≻ Item 6 ≻ Item 8 ≻ Item 9\n",
      "Voter 28: Item 7 ≻ Item 5 ≻ Item 4 ≻ Item 2 ≻ Item 10 ≻ Item 1 ≻ Item 3 ≻ Item 6 ≻ Item 8 ≻ Item 9\n",
      "Voter 29: Item 7 ≻ Item 5 ≻ Item 4 ≻ Item 2 ≻ Item 3 ≻ Item 8 ≻ Item 1 ≻ Item 10 ≻ Item 6 ≻ Item 9\n",
      "Voter 30: Item 7 ≻ Item 5 ≻ Item 4 ≻ Item 2 ≻ Item 3 ≻ Item 8 ≻ Item 1 ≻ Item 10 ≻ Item 6 ≻ Item 9\n"
     ]
    }
   ],
   "source": [
    "# Choose your preferred instance here - simply comment out the others\n",
    "\n",
    "# instance = instance_multilaps\n",
    "# instance = instance_shirt\n",
    "instance = instance_sushi\n",
    "# instance = instance_power\n",
    "\n",
    "# Let's look at the size of this instance\n",
    "num_alts = instance.num_alternatives\n",
    "num_voters = instance.num_voters\n",
    "\n",
    "print('number of voters:', num_voters)\n",
    "print('... of which unique orders:', instance.num_unique_orders)\n",
    "print('number of alternatives:', num_alts)\n",
    "# print('number of orders in instance.orders:', len(instance.orders))\n",
    "# print('number of orders in instance.preferences:', len(instance.preferences))\n",
    "# print('number of orders in instance.multiplicity:', len(instance.multiplicity))\n",
    "\n",
    "# Get an idea of what methods are available for an instance\n",
    "# by uncommenting the next line:\n",
    "# dir(instance)\n",
    "\n",
    "# Next we print the preferences of voters - just to get an impression\n",
    "if num_voters > 30:\n",
    "    print(f\"Too many voters: {num_voters}. I will only list the first 30.\")\n",
    "for i, ranking in enumerate(instance.full_profile()):\n",
    "    if i >= 30:\n",
    "        break  # Stop after 30 iterations\n",
    "    ranked_items = [item[0] for item in ranking]  # Extract item indices\n",
    "    print(f\"Voter {i + 1}: {' ≻ '.join(f'Item {item}' for item in ranked_items)}\")\n"
   ]
  },
  {
   "cell_type": "markdown",
   "id": "9a137814",
   "metadata": {},
   "source": [
    "### 1) Kendall Tau Distance"
   ]
  },
  {
   "cell_type": "code",
   "execution_count": null,
   "id": "046cb7f3",
   "metadata": {
    "scrolled": false,
    "trusted": false
   },
   "outputs": [
    {
     "ename": "AssertionError",
     "evalue": "Too many voters: 5000. I will not compute the distance-heatmap.",
     "output_type": "error",
     "traceback": [
      "\u001b[0;31m---------------------------------------------------------------------------\u001b[0m",
      "\u001b[0;31mAssertionError\u001b[0m                            Traceback (most recent call last)",
      "Input \u001b[0;32mIn [14]\u001b[0m, in \u001b[0;36m<cell line: 1>\u001b[0;34m()\u001b[0m\n\u001b[0;32m----> 1\u001b[0m \u001b[38;5;28;01massert\u001b[39;00m num_voters \u001b[38;5;241m<\u001b[39m\u001b[38;5;241m=\u001b[39m \u001b[38;5;241m30\u001b[39m, \u001b[38;5;124mf\u001b[39m\u001b[38;5;124m\"\u001b[39m\u001b[38;5;124mToo many voters: \u001b[39m\u001b[38;5;132;01m{\u001b[39;00mnum_voters\u001b[38;5;132;01m}\u001b[39;00m\u001b[38;5;124m. I will not compute the distance-heatmap.\u001b[39m\u001b[38;5;124m\"\u001b[39m\n\u001b[1;32m      3\u001b[0m \u001b[38;5;66;03m# Computing the distances between all pairs of voters\u001b[39;00m\n\u001b[1;32m      4\u001b[0m arr_KTdist \u001b[38;5;241m=\u001b[39m np\u001b[38;5;241m.\u001b[39marray(distance_matrix(instance, kendall_tau_distance))\n",
      "\u001b[0;31mAssertionError\u001b[0m: Too many voters: 5000. I will not compute the distance-heatmap."
     ]
    }
   ],
   "source": [
    "assert num_voters <= 30, f\"Too many voters: {num_voters}. I will not compute the distance-heatmap.\"\n",
    "\n",
    "# Computing the distances between all pairs of voters\n",
    "arr_KTdist = np.array(distance_matrix(instance, kendall_tau_distance))\n",
    "\n",
    "# 1. Maximal distance\n",
    "max_val = np.max(arr_KTdist)\n",
    "print(\"Max distance between voters:\", max_val)\n",
    "\n",
    "# 2. Average distance (excluding diagonal)\n",
    "# Mask out diagonal\n",
    "off_diagonal_mask = ~np.eye(arr_KTdist.shape[0], dtype=bool)\n",
    "off_diagonal_values = arr_KTdist[off_diagonal_mask]\n",
    "average_off_diagonal = np.mean(off_diagonal_values)\n",
    "print(\"Average distance between voters:\", average_off_diagonal)\n",
    "\n",
    "# 3. Plotting a heatmap to show all distancesbetween pairs of voters\n",
    "plt.figure(figsize=(12, 10))\n",
    "sns.heatmap(arr_KTdist, annot=True, fmt=\".0f\", cmap=\"coolwarm\", cbar=True)\n",
    "plt.title(\"Kendall Tau Distances Between Voters\")\n",
    "plt.xlabel(\"Voter\")\n",
    "plt.ylabel(\"Voter\")\n",
    "plt.show()"
   ]
  },
  {
   "cell_type": "markdown",
   "id": "f693ed79",
   "metadata": {},
   "source": [
    ".... TODO compute the normalising instance (efficiently)"
   ]
  },
  {
   "cell_type": "markdown",
   "id": "a1e5d185",
   "metadata": {},
   "source": [
    "### 2) Spearman Distance"
   ]
  },
  {
   "cell_type": "code",
   "execution_count": null,
   "id": "11f971aa",
   "metadata": {
    "trusted": false
   },
   "outputs": [],
   "source": [
    "assert num_voters <= 30, f\"Too many voters: {num_voters}. I will not compute the distance-heatmap.\"\n",
    "\n",
    "# Computing the distances between all pairs of voters\n",
    "arr = np.array(distance_matrix(instance, spearman_footrule_distance))\n",
    "\n",
    "# 1. Maximal distance\n",
    "max_val = np.max(arr)\n",
    "print(\"Max distance between voters:\", max_val)\n",
    "\n",
    "# 2. Average distance (excluding diagonal)\n",
    "# Mask out diagonal\n",
    "off_diagonal_mask = ~np.eye(arr.shape[0], dtype=bool)\n",
    "off_diagonal_values = arr[off_diagonal_mask]\n",
    "average_off_diagonal = np.mean(off_diagonal_values)\n",
    "print(\"Average distance between voters:\", average_off_diagonal)\n",
    "\n",
    "# 3. Plotting a heatmap to show all distancesbetween pairs of voters\n",
    "plt.figure(figsize=(12, 10))\n",
    "sns.heatmap(arr, annot=True, fmt=\".0f\", cmap=\"coolwarm\", cbar=True)\n",
    "plt.title(\"Spearman Distances Between Voters\")\n",
    "plt.xlabel(\"Voter\")\n",
    "plt.ylabel(\"Voter\")\n",
    "plt.show()"
   ]
  },
  {
   "cell_type": "markdown",
   "id": "ac37dd78",
   "metadata": {},
   "source": [
    ".... TODO compute the normalising instance (efficiently)"
   ]
  },
  {
   "cell_type": "markdown",
   "id": "169c3e40",
   "metadata": {},
   "source": [
    "Question: Given the heatmap (differences between voters) and the maximal and average difference - what are your expectations for the Mallows model?"
   ]
  },
  {
   "cell_type": "markdown",
   "id": "5a37aa60",
   "metadata": {},
   "source": [
    "## Maximum Liklihood Models"
   ]
  },
  {
   "cell_type": "markdown",
   "id": "b0df1177",
   "metadata": {},
   "source": [
    "### 1) Mallows Model with Kendall Tau Distance"
   ]
  },
  {
   "cell_type": "code",
   "execution_count": null,
   "id": "675694ac",
   "metadata": {
    "trusted": false
   },
   "outputs": [],
   "source": [
    "\n",
    "# Initialize the agreement matrix Q with zeros\n",
    "Q = np.zeros((num_alts, num_alts), dtype=int)\n",
    "\n",
    "# For each preference we consider the ranking \n",
    "# and count is the number of voters with that ranking\n",
    "for ind, ranking in enumerate(instance.full_profile()):\n",
    "    for i in range(len(ranking)):\n",
    "        for j in range(i + 1, len(ranking)):\n",
    "            (higher,) = ranking[i]\n",
    "            (lower,) = ranking[j]\n",
    "            # Update the number of voters that prefer higher to lower\n",
    "            Q[int(higher) - 1, int(lower) - 1] += 1\n",
    "\n",
    "# print(Q)\n",
    "# Create the MIP solver with the SCIP backend.\n",
    "solver = pywraplp.Solver.CreateSolver('SCIP')\n",
    "\n",
    "# Define 0,1 variables for every ordered pair of items\n",
    "x = {}\n",
    "for i in range(num_alts):\n",
    "    for j in range(num_alts):\n",
    "        x[i, j] = solver.IntVar(0, 1, f'x_{i}_{j}')\n",
    "\n",
    "# Define Constraints ensuring only one tuple (a,b) or (b,a) is selected: \n",
    "# x_i_j + x_j_i = 1\n",
    "for i, j in itertools.combinations(range(num_alts), 2):\n",
    "    constraint = solver.RowConstraint(1, 1)\n",
    "    constraint.SetCoefficient(x[i, j], 1)\n",
    "    constraint.SetCoefficient(x[j, i], 1)\n",
    "\n",
    "# Define constraints ensuring transitivity: \n",
    "# 1 <= x_i_j + x_j_h + x_h_i <= 2\n",
    "for i, j, h in itertools.combinations(range(num_alts), 3):\n",
    "    constraint = solver.RowConstraint(1, 2)\n",
    "    constraint.SetCoefficient(x[i, j], 1)\n",
    "    constraint.SetCoefficient(x[j, h], 1)\n",
    "    constraint.SetCoefficient(x[h, i], 1)\n",
    "\n",
    "# Define objective\n",
    "objective = solver.Objective()\n",
    "for i in range(num_alts):\n",
    "    for j in range(num_alts):\n",
    "        if i != j:\n",
    "            objective.SetCoefficient(x[i, j], int(Q[j][i]))\n",
    "objective.SetMinimization()\n",
    "\n",
    "status = solver.Solve()\n",
    "\n",
    "# Set Kemeny Score and Kemeny Ranking from ILP solution\n",
    "kemeny_score = solver.Objective().Value()\n",
    "kemeny_ranking = -1 * np.ones(num_alts)\n",
    "for i in range(num_alts):\n",
    "    sum = 0\n",
    "    # for every item compute the number of lower ranked item (in \"sum\")\n",
    "    for j in range(num_alts):  \n",
    "        if i != j:\n",
    "            sum += x[i, j].solution_value()\n",
    "    # the item i is placed according to the number of lower ranked items\n",
    "    kemeny_ranking[int(num_alts - sum - 1)] = i  \n",
    "\n",
    "# Print the MLE ranking\n",
    "print(\"\\nThe maximum likelihood ranking for the Mallows model with Kendall Tau distance is:\")\n",
    "print(\" ≻ \".join(str(int(x+1)) for x in kemeny_ranking))\n",
    "print(\"\\nThe total Kendall Tau distance w.r.t. the voters is:\", kemeny_score)"
   ]
  },
  {
   "cell_type": "markdown",
   "id": "59b2c285",
   "metadata": {},
   "source": [
    "### 2) Mallows Model with Spearman Distance"
   ]
  },
  {
   "cell_type": "code",
   "execution_count": null,
   "id": "d0924f93",
   "metadata": {
    "trusted": false
   },
   "outputs": [],
   "source": [
    "borda_scores = defaultdict(float)\n",
    "\n",
    "# Compute Borda Scores\n",
    "for ranking in instance.full_profile():\n",
    "    for i, alt_group in enumerate(ranking):\n",
    "        if isinstance(alt_group, int):\n",
    "            borda_scores[alt_group] += num_alts - i - 1\n",
    "        else:  # Tied alternatives\n",
    "            for alt in alt_group:\n",
    "                borda_scores[alt] += num_alts - i - 1\n",
    "\n",
    "# Sort and display\n",
    "sorted_scores = sorted(borda_scores.items(), key=lambda x: x[1], reverse=True)\n",
    "for alt, score in sorted_scores:\n",
    "    print(f\"Alternative {alt}: {score:.1f} points\")\n",
    "\n",
    "# Print the MLE ranking\n",
    "borda_ranking = [f\"{alt}\" for alt, _ in sorted_scores]\n",
    "print(\"\\nThe maximum likelihood ranking for the Mallows model with Spearman distance is:\")\n",
    "print(\" ≻ \".join(borda_ranking))"
   ]
  },
  {
   "cell_type": "markdown",
   "id": "8ed21282",
   "metadata": {},
   "source": [
    "# Using BayesMallows in R"
   ]
  },
  {
   "cell_type": "markdown",
   "id": "7ea9f55e",
   "metadata": {},
   "source": [
    "## 1) Transforming the data"
   ]
  },
  {
   "cell_type": "code",
   "execution_count": null,
   "id": "18e414b4",
   "metadata": {
    "trusted": false
   },
   "outputs": [],
   "source": [
    "# Each preference in instance.preferences is a tuple of tuples of item IDs\n",
    "# Convert to numpy matrix: rows = assessors, columns = ranked items\n",
    "\n",
    "rankings_matrix = np.zeros((num_voters, num_alts), dtype=int)\n",
    "\n",
    "for i, ranking in enumerate(instance.full_profile()):\n",
    "    for rank_pos, item_tuple in enumerate(ranking):\n",
    "        item = item_tuple[0]\n",
    "#         rankings_matrix[i, rank_pos] = item\n",
    "        # item is 1-based in PrefLib; rank is 0-based → add 1 to rank to get 1-based rank for R\n",
    "        rankings_matrix[i, item - 1] = rank_pos + 1\n",
    "\n",
    "# print(rankings_matrix)"
   ]
  },
  {
   "cell_type": "code",
   "execution_count": null,
   "id": "9b944167",
   "metadata": {
    "scrolled": true,
    "trusted": false
   },
   "outputs": [],
   "source": [
    "with localconverter(robjects.default_converter + numpy2ri.converter):\n",
    "    r_matrix = robjects.conversion.py2rpy(rankings_matrix)\n",
    "\n",
    "robjects.globalenv['rankings_matrix'] = r_matrix\n",
    "robjects.globalenv['n_assessors'] = num_voters\n",
    "robjects.globalenv['n_items'] = num_alts\n"
   ]
  },
  {
   "cell_type": "markdown",
   "id": "001ce0a1",
   "metadata": {},
   "source": [
    "# Exercise: Compare different distance metrics\n",
    "BayesMallows supports different distances (e.g., Kendall, Footrule, Spearman). You can fit Mallows models using different metrics and compare outputs like consensus ranking, posterior uncertainty, and goodness-of-fit.\n",
    "\n",
    "Task:\n",
    "Fit Mallows models with Kendall, Footrule, and Spearman distances on the same dataset. Compare consensus rankings and convergence diagnostics. Which metric fits the data best?"
   ]
  },
  {
   "cell_type": "code",
   "execution_count": null,
   "id": "81935fab",
   "metadata": {
    "scrolled": false,
    "trusted": false
   },
   "outputs": [],
   "source": [
    "%%R\n",
    "library(BayesMallows)\n",
    "\n",
    "set.seed(456)\n",
    "\n",
    "# Step 1: Convert numpy matrix to BayesMallowsData object\n",
    "data <- setup_rank_data(rankings_matrix)\n",
    "# print(data)\n",
    "\n",
    "metrics <- c(\"footrule\", \"spearman\", \"cayley\", \"hamming\", \"ulam\", \"kendall\")\n",
    "\n",
    "results <- data.frame(\n",
    "  metric = character(),\n",
    "  alpha = numeric(),\n",
    "  consensus = character(),\n",
    "  stringsAsFactors = FALSE\n",
    ")\n",
    "\n",
    "for (m in metrics) {\n",
    "  cat(\"\\nFitting Mallows model with metric:\", m, \"\\n\")\n",
    "  \n",
    "  model_options <- set_model_options(metric = m, n_clusters = 1)\n",
    "  compute_options <- set_compute_options(nmc = 5000, burnin = 1000, rho_thinning = 10)\n",
    "# nmc: number of total iterations\n",
    "# burnin: how many samples to discard from the beginning\n",
    "# rho_thinning: how many samples to skip between retained samples\n",
    "  model <- compute_mallows(data, model_options = model_options, compute_options = compute_options)\n",
    "  \n",
    "#   print(summary(model))\n",
    "    \n",
    "  # Estimate alpha from posterior samples\n",
    "  alpha_val <- mean(model$alpha$value)\n",
    "  \n",
    "  # Estimate consensus ranking from rho samples\n",
    "  rho_means <- aggregate(value ~ item, data = model$rho, FUN = mean)\n",
    "  ordered_items <- rho_means$item[order(rho_means$value)]\n",
    "  consensus_str <- paste(ordered_items, collapse = \" ≻ \")\n",
    "  \n",
    "  # Store results\n",
    "  results <- rbind(\n",
    "#     results,\n",
    "    data.frame(metric = m, alpha = alpha_val, consensus = consensus_str)\n",
    "  )\n",
    "}\n",
    "\n",
    "print(results)"
   ]
  },
  {
   "cell_type": "code",
   "execution_count": null,
   "id": "99b77503",
   "metadata": {
    "trusted": false
   },
   "outputs": [],
   "source": [
    "from rpy2.robjects import r, default_converter\n",
    "from rpy2.robjects.conversion import localconverter\n",
    "\n",
    "# Extract ordered_items from R using modern conversion\n",
    "with localconverter(default_converter):\n",
    "    ordered_items_r = r('rho_means$item[order(rho_means$value)]')\n",
    "\n",
    "# Convert directly to Python list of integers\n",
    "Mallows_consensus = list(ordered_items_r)\n",
    "\n",
    "# Convert Kemeny ranking from before to the same format (list of ints that has values from 1 to 11)\n",
    "KT_minimising_ranking = [int(x)+1 for x in kemeny_ranking]\n",
    "\n",
    "# Then compute Kemeny score as before (assuming Q is your numpy matrix)\n",
    "def kemeny_score_from_Q(Q, ranking):\n",
    "    score = 0\n",
    "    n = len(ranking)\n",
    "    for i in range(n - 1):\n",
    "        for j in range(i + 1, n):\n",
    "            h = ranking[i] - 1  # zero-based index for Q\n",
    "            l = ranking[j] - 1\n",
    "            score += Q[l, h]  # count inversions: how many voters prefer l over h\n",
    "    return score\n",
    "\n",
    "score = kemeny_score_from_Q(Q, Mallows_consensus)\n",
    "print(\"Consensus ranking (Mallows_consensus):\\n\", Mallows_consensus)\n",
    "print(f\"Kemeny score of consensus ranking: {score}\")\n",
    "\n",
    "score = kemeny_score_from_Q(Q, KT_minimising_ranking)\n",
    "print(\"KT minimising ranking:\\n\", KT_minimising_ranking)\n",
    "print(f\"Kemeny score of KT_minimising_ranking: {score}\")"
   ]
  },
  {
   "cell_type": "code",
   "execution_count": null,
   "id": "29be39a0",
   "metadata": {
    "trusted": false
   },
   "outputs": [],
   "source": [
    "print(\"\\nThe maximum likelihood ranking for the Mallows model with Spearman distance is:\")\n",
    "print(\" ≻ \".join(borda_ranking))"
   ]
  },
  {
   "cell_type": "markdown",
   "id": "5c82a0d9",
   "metadata": {},
   "source": [
    "2. Goodness-of-fit and model checking\n",
    "Teach students to assess model fit by examining posterior distributions, traceplots, and how well the model recovers known rankings (if simulated data).\n",
    "\n",
    "Plot posterior distributions of the consensus ranking\n",
    "\n",
    "Posterior predictive checks (simulate rankings from the fitted model and compare to observed)"
   ]
  },
  {
   "cell_type": "code",
   "execution_count": null,
   "id": "3c22f2ad",
   "metadata": {
    "trusted": false
   },
   "outputs": [],
   "source": [
    "%%R\n",
    "\n",
    "library(ggplot2)\n",
    "\n",
    "ggplot(model$alpha, aes(x=value)) +\n",
    "  geom_histogram(bins=30, fill=\"skyblue\", color=\"black\") +\n",
    "  ggtitle(paste(\"Posterior distribution of alpha - Metric:\", model_options$metric)) +\n",
    "  xlab(\"Alpha (dispersion)\") +\n",
    "  ylab(\"Frequency\")\n"
   ]
  },
  {
   "cell_type": "code",
   "execution_count": null,
   "id": "cbba3d8b",
   "metadata": {
    "trusted": false
   },
   "outputs": [],
   "source": [
    "%%R\n",
    "\n",
    "ggplot(model$alpha, aes(x=iteration, y=value)) +\n",
    "  geom_line() +\n",
    "  ggtitle(\"Trace plot of alpha samples\") +\n",
    "  xlab(\"Iteration\") + ylab(\"Alpha\")"
   ]
  },
  {
   "cell_type": "markdown",
   "id": "e14da92f",
   "metadata": {},
   "source": [
    "# 3. Clustering ranking data\n",
    "\n",
    "Real ranking data often comes from heterogeneous populations. \n",
    "BayesMallows supports mixture models to cluster assessors into subgroups with different consensus rankings.\n",
    "\n",
    "**Task**:\n",
    "Fit a Mallows mixture model with 2 or 3 clusters, interpret clusters, and compare consensus rankings within each cluster. \n",
    "How many clusters should we choose?"
   ]
  },
  {
   "cell_type": "code",
   "execution_count": null,
   "id": "663ebe13",
   "metadata": {
    "trusted": false
   },
   "outputs": [],
   "source": [
    "%%R\n",
    "\n",
    "model_options <- set_model_options(metric = \"kendall\", n_clusters = 2)\n",
    "model <- compute_mallows(data, model_options = model_options)\n",
    "\n",
    "# Extract consensus for each cluster\n",
    "for (clust in levels(model$rho$cluster)) {\n",
    "  rho_cluster <- subset(model$rho, cluster == clust)\n",
    "  rho_means <- aggregate(value ~ item, data = rho_cluster, FUN = mean)\n",
    "  ordered_items <- rho_means$item[order(rho_means$value)]\n",
    "  cat(\"Consensus ranking for cluster\", clust, \":\\n\", paste(ordered_items, collapse = \" ≻ \"), \"\\n\")\n",
    "}\n",
    "\n",
    "# Cluster assignment counts\n",
    "table(model$cluster_assignment$value)\n"
   ]
  },
  {
   "cell_type": "code",
   "execution_count": null,
   "id": "5a0f1e93",
   "metadata": {
    "trusted": false
   },
   "outputs": [],
   "source": []
  }
 ],
 "metadata": {
  "kernelspec": {
   "display_name": "Python 3 (ipykernel)",
   "language": "python",
   "name": "python3"
  },
  "language_info": {
   "codemirror_mode": {
    "name": "ipython",
    "version": 3
   },
   "file_extension": ".py",
   "mimetype": "text/x-python",
   "name": "python",
   "nbconvert_exporter": "python",
   "pygments_lexer": "ipython3",
   "version": "3.10.13"
  }
 },
 "nbformat": 4,
 "nbformat_minor": 5
}
